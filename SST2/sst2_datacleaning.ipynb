{
 "cells": [
  {
   "cell_type": "code",
   "execution_count": 1,
   "metadata": {},
   "outputs": [
    {
     "name": "stderr",
     "output_type": "stream",
     "text": [
      "/Users/kyradresen/opt/anaconda3/lib/python3.9/site-packages/pandas/core/computation/expressions.py:21: UserWarning: Pandas requires version '2.8.4' or newer of 'numexpr' (version '2.8.3' currently installed).\n",
      "  from pandas.core.computation.check import NUMEXPR_INSTALLED\n",
      "/Users/kyradresen/opt/anaconda3/lib/python3.9/site-packages/pandas/core/arrays/masked.py:60: UserWarning: Pandas requires version '1.3.6' or newer of 'bottleneck' (version '1.3.5' currently installed).\n",
      "  from pandas.core import (\n"
     ]
    },
    {
     "data": {
      "application/vnd.jupyter.widget-view+json": {
       "model_id": "1b182b00e86b43f48bc8bea31f105c76",
       "version_major": 2,
       "version_minor": 0
      },
      "text/plain": [
       "Downloading readme:   0%|          | 0.00/5.27k [00:00<?, ?B/s]"
      ]
     },
     "metadata": {},
     "output_type": "display_data"
    },
    {
     "name": "stderr",
     "output_type": "stream",
     "text": [
      "Downloading data: 100%|██████████| 3.11M/3.11M [00:00<00:00, 3.72MB/s]\n",
      "Downloading data: 100%|██████████| 72.8k/72.8k [00:00<00:00, 456kB/s]\n",
      "Downloading data: 100%|██████████| 148k/148k [00:00<00:00, 807kB/s]\n"
     ]
    },
    {
     "data": {
      "application/vnd.jupyter.widget-view+json": {
       "model_id": "ef72d4b08f3a4f9aa15dca0c7f63f8b7",
       "version_major": 2,
       "version_minor": 0
      },
      "text/plain": [
       "Generating train split:   0%|          | 0/67349 [00:00<?, ? examples/s]"
      ]
     },
     "metadata": {},
     "output_type": "display_data"
    },
    {
     "data": {
      "application/vnd.jupyter.widget-view+json": {
       "model_id": "568834a5fc05407ebeac817ee80e22ca",
       "version_major": 2,
       "version_minor": 0
      },
      "text/plain": [
       "Generating validation split:   0%|          | 0/872 [00:00<?, ? examples/s]"
      ]
     },
     "metadata": {},
     "output_type": "display_data"
    },
    {
     "data": {
      "application/vnd.jupyter.widget-view+json": {
       "model_id": "7a77484ae5574b53b5940ce328499f56",
       "version_major": 2,
       "version_minor": 0
      },
      "text/plain": [
       "Generating test split:   0%|          | 0/1821 [00:00<?, ? examples/s]"
      ]
     },
     "metadata": {},
     "output_type": "display_data"
    }
   ],
   "source": [
    "from datasets import load_dataset\n",
    "\n",
    "dataset = load_dataset(\"stanfordnlp/sst2\")"
   ]
  },
  {
   "cell_type": "code",
   "execution_count": 2,
   "metadata": {},
   "outputs": [
    {
     "data": {
      "text/plain": [
       "DatasetDict({\n",
       "    train: Dataset({\n",
       "        features: ['idx', 'sentence', 'label'],\n",
       "        num_rows: 67349\n",
       "    })\n",
       "    validation: Dataset({\n",
       "        features: ['idx', 'sentence', 'label'],\n",
       "        num_rows: 872\n",
       "    })\n",
       "    test: Dataset({\n",
       "        features: ['idx', 'sentence', 'label'],\n",
       "        num_rows: 1821\n",
       "    })\n",
       "})"
      ]
     },
     "execution_count": 2,
     "metadata": {},
     "output_type": "execute_result"
    }
   ],
   "source": [
    "dataset"
   ]
  },
  {
   "cell_type": "code",
   "execution_count": 5,
   "metadata": {},
   "outputs": [
    {
     "name": "stdout",
     "output_type": "stream",
     "text": [
      "        idx                                           sentence  label\n",
      "0         0       hide new secretions from the parental units       0\n",
      "1         1               contains no wit , only labored gags       0\n",
      "2         2  that loves its characters and communicates som...      1\n",
      "3         3  remains utterly satisfied to remain the same t...      0\n",
      "4         4  on the worst revenge-of-the-nerds clichés the ...      0\n",
      "...     ...                                                ...    ...\n",
      "70037  1816  it risks seeming slow and pretentious , becaus...     -1\n",
      "70038  1817  take care of my cat offers a refreshingly diff...     -1\n",
      "70039  1818  davis has filled out his cast with appealing f...     -1\n",
      "70040  1819  it represents better-than-average movie-making...     -1\n",
      "70041  1820  dazzling and sugar-sweet , a blast of shallow ...     -1\n",
      "\n",
      "[70042 rows x 3 columns]\n"
     ]
    }
   ],
   "source": [
    "import pandas as pd\n",
    "from datasets import load_dataset\n",
    "\n",
    "# Load the dataset\n",
    "dataset = load_dataset(\"stanfordnlp/sst2\")\n",
    "\n",
    "# Convert each split into a DataFrame\n",
    "train_df = pd.DataFrame(dataset['train'])\n",
    "validation_df = pd.DataFrame(dataset['validation'])\n",
    "test_df = pd.DataFrame(dataset['test'])\n",
    "\n",
    "# Concatenate the DataFrames\n",
    "combined_df = pd.concat([train_df, validation_df, test_df], ignore_index=True)\n",
    "\n",
    "# Print the combined DataFrame\n",
    "print(combined_df)"
   ]
  },
  {
   "cell_type": "code",
   "execution_count": 7,
   "metadata": {},
   "outputs": [
    {
     "name": "stdout",
     "output_type": "stream",
     "text": [
      "        idx                                           sentence  label\n",
      "0     55232  carried less by wow factors than by its funny ...      1\n",
      "1      1862  sorry use of aaliyah in her one and only starr...      0\n",
      "2     46429  the obnoxious special effects , the obligatory...      0\n",
      "3     52913  like the best of godard 's movies ... it is vi...      1\n",
      "4     58934  if you are willing to do this , then you so cr...      0\n",
      "...     ...                                                ...    ...\n",
      "2009   1126  mr. nelson has made a film that is an undeniab...      1\n",
      "2010   5492  radiates star-power potential in this remarkab...      1\n",
      "2011     95  this riveting world war ii moral suspense stor...      0\n",
      "2012   5314  the son of the bride 's humor is born out of a...      1\n",
      "2013  54721  works spectacularly well ... a shiver-inducing...      1\n",
      "\n",
      "[2014 rows x 3 columns]\n"
     ]
    }
   ],
   "source": [
    "# Ensure the target column is named 'label'\n",
    "target_col = 'label'\n",
    "\n",
    "# Function to count words in a sentence\n",
    "def word_count(sentence):\n",
    "    return len(sentence.split())\n",
    "\n",
    "# Filter the DataFrame for sentences with 10 to 30 words\n",
    "filtered_df = combined_df[combined_df['sentence'].apply(word_count).between(10, 30)]\n",
    "\n",
    "# Separate the DataFrame into two parts based on the target variable\n",
    "df_0 = filtered_df[filtered_df[target_col] == 0]\n",
    "df_1 = filtered_df[filtered_df[target_col] == 1]\n",
    "\n",
    "# Determine the number of samples needed from each class (50% of 2014)\n",
    "num_samples_per_class = 2014 // 2\n",
    "\n",
    "# Randomly sample rows from each class\n",
    "sampled_df_0 = df_0.sample(n=num_samples_per_class, random_state=42)\n",
    "sampled_df_1 = df_1.sample(n=num_samples_per_class, random_state=42)\n",
    "\n",
    "# Concatenate the sampled rows\n",
    "balanced_df = pd.concat([sampled_df_0, sampled_df_1])\n",
    "\n",
    "# Shuffle the concatenated DataFrame\n",
    "balanced_df = balanced_df.sample(frac=1, random_state=42).reset_index(drop=True)\n",
    "\n",
    "# Print the balanced DataFrame\n",
    "print(balanced_df)"
   ]
  },
  {
   "cell_type": "code",
   "execution_count": 9,
   "metadata": {},
   "outputs": [
    {
     "data": {
      "text/plain": [
       "label\n",
       "1    1007\n",
       "0    1007\n",
       "Name: count, dtype: int64"
      ]
     },
     "execution_count": 9,
     "metadata": {},
     "output_type": "execute_result"
    }
   ],
   "source": [
    "# Count the occurrences of each class in the target variable\n",
    "balanced_df['label'].value_counts()"
   ]
  },
  {
   "cell_type": "code",
   "execution_count": 10,
   "metadata": {},
   "outputs": [],
   "source": [
    "balanced_df.to_csv('sst2_balanced_sentences.csv', index=False)"
   ]
  }
 ],
 "metadata": {
  "kernelspec": {
   "display_name": "base",
   "language": "python",
   "name": "python3"
  },
  "language_info": {
   "codemirror_mode": {
    "name": "ipython",
    "version": 3
   },
   "file_extension": ".py",
   "mimetype": "text/x-python",
   "name": "python",
   "nbconvert_exporter": "python",
   "pygments_lexer": "ipython3",
   "version": "3.9.13"
  }
 },
 "nbformat": 4,
 "nbformat_minor": 2
}
