{
 "cells": [
  {
   "cell_type": "code",
   "execution_count": 1,
   "metadata": {},
   "outputs": [
    {
     "name": "stdout",
     "output_type": "stream",
     "text": [
      "Requirement already satisfied: sentence-transformers in /home/ray/anaconda3/lib/python3.9/site-packages (3.0.1)\n",
      "Requirement already satisfied: matplotlib in /home/ray/anaconda3/lib/python3.9/site-packages (3.9.0)\n",
      "Requirement already satisfied: seaborn in /home/ray/anaconda3/lib/python3.9/site-packages (0.13.2)\n",
      "Requirement already satisfied: transformers<5.0.0,>=4.34.0 in /home/ray/anaconda3/lib/python3.9/site-packages (from sentence-transformers) (4.41.2)\n",
      "Requirement already satisfied: tqdm in /home/ray/anaconda3/lib/python3.9/site-packages (from sentence-transformers) (4.66.2)\n",
      "Requirement already satisfied: torch>=1.11.0 in /home/ray/anaconda3/lib/python3.9/site-packages (from sentence-transformers) (2.3.1)\n",
      "Requirement already satisfied: numpy in /home/ray/anaconda3/lib/python3.9/site-packages (from sentence-transformers) (1.24.4)\n",
      "Requirement already satisfied: scikit-learn in /home/ray/anaconda3/lib/python3.9/site-packages (from sentence-transformers) (1.5.0)\n",
      "Requirement already satisfied: scipy in /home/ray/anaconda3/lib/python3.9/site-packages (from sentence-transformers) (1.11.4)\n",
      "Requirement already satisfied: huggingface-hub>=0.15.1 in /home/ray/anaconda3/lib/python3.9/site-packages (from sentence-transformers) (0.23.4)\n",
      "Requirement already satisfied: Pillow in /home/ray/anaconda3/lib/python3.9/site-packages (from sentence-transformers) (9.2.0)\n",
      "Requirement already satisfied: contourpy>=1.0.1 in /home/ray/anaconda3/lib/python3.9/site-packages (from matplotlib) (1.2.1)\n",
      "Requirement already satisfied: cycler>=0.10 in /home/ray/anaconda3/lib/python3.9/site-packages (from matplotlib) (0.12.1)\n",
      "Requirement already satisfied: fonttools>=4.22.0 in /home/ray/anaconda3/lib/python3.9/site-packages (from matplotlib) (4.53.0)\n",
      "Requirement already satisfied: kiwisolver>=1.3.1 in /home/ray/anaconda3/lib/python3.9/site-packages (from matplotlib) (1.4.5)\n",
      "Requirement already satisfied: packaging>=20.0 in /home/ray/anaconda3/lib/python3.9/site-packages (from matplotlib) (24.0)\n",
      "Requirement already satisfied: pyparsing>=2.3.1 in /home/ray/anaconda3/lib/python3.9/site-packages (from matplotlib) (3.1.1)\n",
      "Requirement already satisfied: python-dateutil>=2.7 in /home/ray/anaconda3/lib/python3.9/site-packages (from matplotlib) (2.8.2)\n",
      "Requirement already satisfied: importlib-resources>=3.2.0 in /home/ray/anaconda3/lib/python3.9/site-packages (from matplotlib) (6.4.0)\n",
      "Requirement already satisfied: pandas>=1.2 in /home/ray/anaconda3/lib/python3.9/site-packages (from seaborn) (1.5.3)\n",
      "Requirement already satisfied: filelock in /home/ray/anaconda3/lib/python3.9/site-packages (from huggingface-hub>=0.15.1->sentence-transformers) (3.13.1)\n",
      "Requirement already satisfied: fsspec>=2023.5.0 in /home/ray/anaconda3/lib/python3.9/site-packages (from huggingface-hub>=0.15.1->sentence-transformers) (2023.5.0)\n",
      "Requirement already satisfied: pyyaml>=5.1 in /home/ray/anaconda3/lib/python3.9/site-packages (from huggingface-hub>=0.15.1->sentence-transformers) (5.3.1)\n",
      "Requirement already satisfied: requests in /home/ray/anaconda3/lib/python3.9/site-packages (from huggingface-hub>=0.15.1->sentence-transformers) (2.31.0)\n",
      "Requirement already satisfied: typing-extensions>=3.7.4.3 in /home/ray/anaconda3/lib/python3.9/site-packages (from huggingface-hub>=0.15.1->sentence-transformers) (4.8.0)\n",
      "Requirement already satisfied: zipp>=3.1.0 in /home/ray/anaconda3/lib/python3.9/site-packages (from importlib-resources>=3.2.0->matplotlib) (3.17.0)\n",
      "Requirement already satisfied: pytz>=2020.1 in /home/ray/anaconda3/lib/python3.9/site-packages (from pandas>=1.2->seaborn) (2022.7.1)\n",
      "Requirement already satisfied: six>=1.5 in /home/ray/anaconda3/lib/python3.9/site-packages (from python-dateutil>=2.7->matplotlib) (1.16.0)\n",
      "Requirement already satisfied: sympy in /home/ray/anaconda3/lib/python3.9/site-packages (from torch>=1.11.0->sentence-transformers) (1.12.1)\n",
      "Requirement already satisfied: networkx in /home/ray/anaconda3/lib/python3.9/site-packages (from torch>=1.11.0->sentence-transformers) (3.2.1)\n",
      "Requirement already satisfied: jinja2 in /home/ray/anaconda3/lib/python3.9/site-packages (from torch>=1.11.0->sentence-transformers) (3.1.2)\n",
      "Requirement already satisfied: nvidia-cuda-nvrtc-cu12==12.1.105 in /home/ray/anaconda3/lib/python3.9/site-packages (from torch>=1.11.0->sentence-transformers) (12.1.105)\n",
      "Requirement already satisfied: nvidia-cuda-runtime-cu12==12.1.105 in /home/ray/anaconda3/lib/python3.9/site-packages (from torch>=1.11.0->sentence-transformers) (12.1.105)\n",
      "Requirement already satisfied: nvidia-cuda-cupti-cu12==12.1.105 in /home/ray/anaconda3/lib/python3.9/site-packages (from torch>=1.11.0->sentence-transformers) (12.1.105)\n",
      "Requirement already satisfied: nvidia-cudnn-cu12==8.9.2.26 in /home/ray/anaconda3/lib/python3.9/site-packages (from torch>=1.11.0->sentence-transformers) (8.9.2.26)\n",
      "Requirement already satisfied: nvidia-cublas-cu12==12.1.3.1 in /home/ray/anaconda3/lib/python3.9/site-packages (from torch>=1.11.0->sentence-transformers) (12.1.3.1)\n",
      "Requirement already satisfied: nvidia-cufft-cu12==11.0.2.54 in /home/ray/anaconda3/lib/python3.9/site-packages (from torch>=1.11.0->sentence-transformers) (11.0.2.54)\n",
      "Requirement already satisfied: nvidia-curand-cu12==10.3.2.106 in /home/ray/anaconda3/lib/python3.9/site-packages (from torch>=1.11.0->sentence-transformers) (10.3.2.106)\n",
      "Requirement already satisfied: nvidia-cusolver-cu12==11.4.5.107 in /home/ray/anaconda3/lib/python3.9/site-packages (from torch>=1.11.0->sentence-transformers) (11.4.5.107)\n",
      "Requirement already satisfied: nvidia-cusparse-cu12==12.1.0.106 in /home/ray/anaconda3/lib/python3.9/site-packages (from torch>=1.11.0->sentence-transformers) (12.1.0.106)\n",
      "Requirement already satisfied: nvidia-nccl-cu12==2.20.5 in /home/ray/anaconda3/lib/python3.9/site-packages (from torch>=1.11.0->sentence-transformers) (2.20.5)\n",
      "Requirement already satisfied: nvidia-nvtx-cu12==12.1.105 in /home/ray/anaconda3/lib/python3.9/site-packages (from torch>=1.11.0->sentence-transformers) (12.1.105)\n",
      "Requirement already satisfied: triton==2.3.1 in /home/ray/anaconda3/lib/python3.9/site-packages (from torch>=1.11.0->sentence-transformers) (2.3.1)\n",
      "Requirement already satisfied: nvidia-nvjitlink-cu12 in /home/ray/anaconda3/lib/python3.9/site-packages (from nvidia-cusolver-cu12==11.4.5.107->torch>=1.11.0->sentence-transformers) (12.5.40)\n",
      "Requirement already satisfied: regex!=2019.12.17 in /home/ray/anaconda3/lib/python3.9/site-packages (from transformers<5.0.0,>=4.34.0->sentence-transformers) (2024.5.15)\n",
      "Requirement already satisfied: tokenizers<0.20,>=0.19 in /home/ray/anaconda3/lib/python3.9/site-packages (from transformers<5.0.0,>=4.34.0->sentence-transformers) (0.19.1)\n",
      "Requirement already satisfied: safetensors>=0.4.1 in /home/ray/anaconda3/lib/python3.9/site-packages (from transformers<5.0.0,>=4.34.0->sentence-transformers) (0.4.3)\n",
      "Requirement already satisfied: joblib>=1.2.0 in /home/ray/anaconda3/lib/python3.9/site-packages (from scikit-learn->sentence-transformers) (1.4.2)\n",
      "Requirement already satisfied: threadpoolctl>=3.1.0 in /home/ray/anaconda3/lib/python3.9/site-packages (from scikit-learn->sentence-transformers) (3.5.0)\n",
      "Requirement already satisfied: MarkupSafe>=2.0 in /home/ray/anaconda3/lib/python3.9/site-packages (from jinja2->torch>=1.11.0->sentence-transformers) (2.1.3)\n",
      "Requirement already satisfied: charset-normalizer<4,>=2 in /home/ray/anaconda3/lib/python3.9/site-packages (from requests->huggingface-hub>=0.15.1->sentence-transformers) (3.3.2)\n",
      "Requirement already satisfied: idna<4,>=2.5 in /home/ray/anaconda3/lib/python3.9/site-packages (from requests->huggingface-hub>=0.15.1->sentence-transformers) (3.6)\n",
      "Requirement already satisfied: urllib3<3,>=1.21.1 in /home/ray/anaconda3/lib/python3.9/site-packages (from requests->huggingface-hub>=0.15.1->sentence-transformers) (1.26.18)\n",
      "Requirement already satisfied: certifi>=2017.4.17 in /home/ray/anaconda3/lib/python3.9/site-packages (from requests->huggingface-hub>=0.15.1->sentence-transformers) (2023.11.17)\n",
      "Requirement already satisfied: mpmath<1.4.0,>=1.1.0 in /home/ray/anaconda3/lib/python3.9/site-packages (from sympy->torch>=1.11.0->sentence-transformers) (1.3.0)\n",
      "\n",
      "\u001b[1m[\u001b[0m\u001b[34;49mnotice\u001b[0m\u001b[1;39;49m]\u001b[0m\u001b[39;49m A new release of pip is available: \u001b[0m\u001b[31;49m23.1.2\u001b[0m\u001b[39;49m -> \u001b[0m\u001b[32;49m24.0\u001b[0m\n",
      "\u001b[1m[\u001b[0m\u001b[34;49mnotice\u001b[0m\u001b[1;39;49m]\u001b[0m\u001b[39;49m To update, run: \u001b[0m\u001b[32;49mpip install --upgrade pip\u001b[0m\n",
      "Found credentials from IAM Role: cld_d81e97c8fg46h1crfqpx4w37ei-cluster-node-role\n"
     ]
    }
   ],
   "source": [
    "!pip install -U sentence-transformers matplotlib seaborn\n"
   ]
  },
  {
   "cell_type": "code",
   "execution_count": 2,
   "metadata": {},
   "outputs": [],
   "source": [
    "import pandas as pd\n",
    "import numpy as np\n",
    "import matplotlib.pyplot as plt\n",
    "import seaborn as sns\n",
    "import os\n",
    "import torch\n",
    "\n",
    "%matplotlib inline"
   ]
  },
  {
   "cell_type": "code",
   "execution_count": 9,
   "metadata": {},
   "outputs": [
    {
     "name": "stdout",
     "output_type": "stream",
     "text": [
      "(2014, 19)\n"
     ]
    },
    {
     "data": {
      "text/html": [
       "<div>\n",
       "<style scoped>\n",
       "    .dataframe tbody tr th:only-of-type {\n",
       "        vertical-align: middle;\n",
       "    }\n",
       "\n",
       "    .dataframe tbody tr th {\n",
       "        vertical-align: top;\n",
       "    }\n",
       "\n",
       "    .dataframe thead th {\n",
       "        text-align: right;\n",
       "    }\n",
       "</style>\n",
       "<table border=\"1\" class=\"dataframe\">\n",
       "  <thead>\n",
       "    <tr style=\"text-align: right;\">\n",
       "      <th></th>\n",
       "      <th>transcription</th>\n",
       "      <th>medical_specialty</th>\n",
       "      <th>age_related_sentence</th>\n",
       "      <th>extracted_text</th>\n",
       "      <th>med_masked_transcriptions</th>\n",
       "      <th>pii_masked_transcriptions</th>\n",
       "      <th>synthetic_sentence_nodp</th>\n",
       "      <th>synthetic_sentence2</th>\n",
       "      <th>synthetic_sentence_dp_nobossep</th>\n",
       "      <th>synthetic_sentence_dp_eps16</th>\n",
       "      <th>synthetic_sentence_dp_eps8_v2</th>\n",
       "      <th>synthetic_sentence_dp_eps3</th>\n",
       "      <th>synthetic_sentence_nodp_temp1</th>\n",
       "      <th>synthetic_sentence_med_nodp_temp0.6_topk100</th>\n",
       "      <th>synthetic_sentence_med_nodp_temp0.8_topk100</th>\n",
       "      <th>synthetic_sentence_med_nodp_temp1.2_topk100</th>\n",
       "      <th>synthetic_sentence_med_nodp_temp0.6_topk50</th>\n",
       "      <th>synthetic_sentence_med_nodp_temp0.8_topk50</th>\n",
       "      <th>synthetic_sentence_med_nodp_temp1.2_topk50</th>\n",
       "    </tr>\n",
       "  </thead>\n",
       "  <tbody>\n",
       "    <tr>\n",
       "      <th>0</th>\n",
       "      <td>CC:, Confusion and slurred speech.,HX , (prima...</td>\n",
       "      <td>Neurology</td>\n",
       "      <td>HX , (primarily obtained from boyfriend): This...</td>\n",
       "      <td>HX , (primarily obtained from boyfriend): This...</td>\n",
       "      <td>HX , (primarily obtained from boyfriend): This...</td>\n",
       "      <td>HX , (primarily obtained from boyfriend): This...</td>\n",
       "      <td>[BOS]Neurology[SEP]The patient is an approxima...</td>\n",
       "      <td>[BOS]Neurology[SEP] Ne ne]D D (N,D)Ne (D,N)D (...</td>\n",
       "      <td>Specialty: Neurology  presentation, she was fo...</td>\n",
       "      <td>[BOS]Neurology[SEP]This patient has uctal dysf...</td>\n",
       "      <td>[BOS]Neurology[SEP]This patient has  epidural ...</td>\n",
       "      <td>[BOS]Neurology[SEP]This patient has SEPRA, a p...</td>\n",
       "      <td>[BOS]Neurology[SEP]This patient has This is a ...</td>\n",
       "      <td>[BOS]Neurology[SEP]This patient has The patien...</td>\n",
       "      <td>[BOS]Neurology[SEP]This patient has  53-year-o...</td>\n",
       "      <td>[BOS]Neurology[SEP]This patient has The risks ...</td>\n",
       "      <td>[BOS]Neurology[SEP]This patient has ,The patie...</td>\n",
       "      <td>[BOS]Neurology[SEP]This patient has  He had a ...</td>\n",
       "      <td>[BOS]Neurology[SEP]This patient has  The patie...</td>\n",
       "    </tr>\n",
       "    <tr>\n",
       "      <th>1</th>\n",
       "      <td>PREOPERATIVE DIAGNOSES,Airway obstruction seco...</td>\n",
       "      <td>Cardiovascular / Pulmonary</td>\n",
       "      <td>INDICATIONS FOR SURGERY,The patient is a 50-ye...</td>\n",
       "      <td>INDICATIONS FOR SURGERY,The patient is a 50-ye...</td>\n",
       "      <td>INDICATIONS FOR SURGERY,The patient is a[AGE] ...</td>\n",
       "      <td>INDICATIONS FOR SURGERY,The patient is a[AGE] ...</td>\n",
       "      <td>[BOS]Cardiovascular / Pulmonary[SEP]The patien...</td>\n",
       "      <td>[BOS]Cardiovascular / Pulmonary[SEP] heart car...</td>\n",
       "      <td>Specialty: Cardiovascular / Pulmonary ressive ...</td>\n",
       "      <td>[BOS]Cardiovascular / Pulmonary[SEP]This patie...</td>\n",
       "      <td>[BOS]Cardiovascular / Pulmonary[SEP]This patie...</td>\n",
       "      <td>[BOS]Cardiovascular / Pulmonary[SEP]This patie...</td>\n",
       "      <td>[BOS]Cardiovascular / Pulmonary[SEP]This patie...</td>\n",
       "      <td>[BOS]Cardiovascular / Pulmonary[SEP]This patie...</td>\n",
       "      <td>[BOS]Cardiovascular / Pulmonary[SEP]This patie...</td>\n",
       "      <td>[BOS]Cardiovascular / Pulmonary[SEP]This patie...</td>\n",
       "      <td>[BOS]Cardiovascular / Pulmonary[SEP]This patie...</td>\n",
       "      <td>[BOS]Cardiovascular / Pulmonary[SEP]This patie...</td>\n",
       "      <td>[BOS]Cardiovascular / Pulmonary[SEP]This patie...</td>\n",
       "    </tr>\n",
       "    <tr>\n",
       "      <th>2</th>\n",
       "      <td>PROCEDURE: , Elective male sterilization via b...</td>\n",
       "      <td>Urology</td>\n",
       "      <td>INDICATIONS:  ,This 34-year-old gentleman has ...</td>\n",
       "      <td>This 34-year-old gentleman has come to the off...</td>\n",
       "      <td>This[AGE][SEX] has come to the office requesti...</td>\n",
       "      <td>This[AGE][SEX] has come to the office requesti...</td>\n",
       "      <td>[BOS]Urology[SEP]This is an 18-year-old male, ...</td>\n",
       "      <td>[BOS]Urology[SEP]Puurology [SEuep]QiQiiQivQeiq...</td>\n",
       "      <td>Specialty: Urology  the need for procedure wit...</td>\n",
       "      <td>[BOS]Urology[SEP]This patient has opedic compl...</td>\n",
       "      <td>[BOS]Urology[SEP]This patient has peritoneopil...</td>\n",
       "      <td>[BOS]Urology[SEP]This patient has ergosteretri...</td>\n",
       "      <td>[BOS]Urology[SEP]This patient has  The patient...</td>\n",
       "      <td>[BOS]Urology[SEP]This patient has  The patient...</td>\n",
       "      <td>[BOS]Urology[SEP]This patient has  The patient...</td>\n",
       "      <td>[BOS]Urology[SEP]This patient has  The procedu...</td>\n",
       "      <td>[BOS]Urology[SEP]This patient has  a history o...</td>\n",
       "      <td>[BOS]Urology[SEP]This patient has  Patient is ...</td>\n",
       "      <td>[BOS]Urology[SEP]This patient has  the patient...</td>\n",
       "    </tr>\n",
       "    <tr>\n",
       "      <th>3</th>\n",
       "      <td>DESCRIPTION:,  The patient was placed in the s...</td>\n",
       "      <td>Urology</td>\n",
       "      <td>DESCRIPTION:,  The patient was placed in the s...</td>\n",
       "      <td>The patient was placed in the supine position ...</td>\n",
       "      <td>The patient was placed in the supine position ...</td>\n",
       "      <td>The patient was placed in the supine position ...</td>\n",
       "      <td>[BOS]Urology[SEP]After the procedure was over,...</td>\n",
       "      <td>[BOS]Urology[SEP]MM)\\nN\\n\\nM\\nS\\nN</td>\n",
       "      <td>Specialty: Urology ft vas was grasped in betwe...</td>\n",
       "      <td>[BOS]Urology[SEP]This patient is iphgym who ha...</td>\n",
       "      <td>[BOS]Urology[SEP]This patient is ialectonic pr...</td>\n",
       "      <td>[BOS]Urology[SEP]This patient is SEP. The pati...</td>\n",
       "      <td>[BOS]Urology[SEP]This patient is ,Patient pres...</td>\n",
       "      <td>[BOS]Urology[SEP]This patient is  On this pati...</td>\n",
       "      <td>[BOS]Urology[SEP]This patient is  On 9-year-ol...</td>\n",
       "      <td>[BOS]Urology[SEP]This patient is She was place...</td>\n",
       "      <td>[BOS]Urology[SEP]This patient is  Pulmonary[SE...</td>\n",
       "      <td>[BOS]Urology[SEP]This patient is  On the patie...</td>\n",
       "      <td>[BOS]Urology[SEP]This patient is  On this 46-y...</td>\n",
       "    </tr>\n",
       "    <tr>\n",
       "      <th>4</th>\n",
       "      <td>PREOPERATIVE DIAGNOSIS: , Voluntary sterility....</td>\n",
       "      <td>Urology</td>\n",
       "      <td>INDICATIONS FOR PROCEDURE:  ,A gentleman who i...</td>\n",
       "      <td>A gentleman who is here today requesting volun...</td>\n",
       "      <td>A gentleman who is here today requesting volun...</td>\n",
       "      <td>A gentleman who is here today requesting volun...</td>\n",
       "      <td>[BOS]Urology[SEP]The patient is a 26-year-old ...</td>\n",
       "      <td>[BOS]Urology[SEP]P__ [SE\\n B)\\n\\nUrologic\\nK]\\...</td>\n",
       "      <td>Specialty: Urology ent was brought to the oper...</td>\n",
       "      <td>[BOS]Urology[SEP]This patient has SEP demonstr...</td>\n",
       "      <td>[BOS]Urology[SEP]This patient has ienced and e...</td>\n",
       "      <td>[BOS]Urology[SEP]This patient has bripped up t...</td>\n",
       "      <td>[BOS]Urology[SEP]This patient has  He had a ni...</td>\n",
       "      <td>[BOS]Urology[SEP]This patient has ,The patient...</td>\n",
       "      <td>[BOS]Urology[SEP]This patient has  The patient...</td>\n",
       "      <td>[BOS]Urology[SEP]This patient has ,The patient...</td>\n",
       "      <td>[BOS]Urology[SEP]This patient has ,The patient...</td>\n",
       "      <td>[BOS]Urology[SEP]This patient has The patient ...</td>\n",
       "      <td>[BOS]Urology[SEP]This patient has ,DESCRIPTION...</td>\n",
       "    </tr>\n",
       "  </tbody>\n",
       "</table>\n",
       "</div>"
      ],
      "text/plain": [
       "                                       transcription  \\\n",
       "0  CC:, Confusion and slurred speech.,HX , (prima...   \n",
       "1  PREOPERATIVE DIAGNOSES,Airway obstruction seco...   \n",
       "2  PROCEDURE: , Elective male sterilization via b...   \n",
       "3  DESCRIPTION:,  The patient was placed in the s...   \n",
       "4  PREOPERATIVE DIAGNOSIS: , Voluntary sterility....   \n",
       "\n",
       "            medical_specialty  \\\n",
       "0                   Neurology   \n",
       "1  Cardiovascular / Pulmonary   \n",
       "2                     Urology   \n",
       "3                     Urology   \n",
       "4                     Urology   \n",
       "\n",
       "                                age_related_sentence  \\\n",
       "0  HX , (primarily obtained from boyfriend): This...   \n",
       "1  INDICATIONS FOR SURGERY,The patient is a 50-ye...   \n",
       "2  INDICATIONS:  ,This 34-year-old gentleman has ...   \n",
       "3  DESCRIPTION:,  The patient was placed in the s...   \n",
       "4  INDICATIONS FOR PROCEDURE:  ,A gentleman who i...   \n",
       "\n",
       "                                      extracted_text  \\\n",
       "0  HX , (primarily obtained from boyfriend): This...   \n",
       "1  INDICATIONS FOR SURGERY,The patient is a 50-ye...   \n",
       "2  This 34-year-old gentleman has come to the off...   \n",
       "3  The patient was placed in the supine position ...   \n",
       "4  A gentleman who is here today requesting volun...   \n",
       "\n",
       "                           med_masked_transcriptions  \\\n",
       "0  HX , (primarily obtained from boyfriend): This...   \n",
       "1  INDICATIONS FOR SURGERY,The patient is a[AGE] ...   \n",
       "2  This[AGE][SEX] has come to the office requesti...   \n",
       "3  The patient was placed in the supine position ...   \n",
       "4  A gentleman who is here today requesting volun...   \n",
       "\n",
       "                           pii_masked_transcriptions  \\\n",
       "0  HX , (primarily obtained from boyfriend): This...   \n",
       "1  INDICATIONS FOR SURGERY,The patient is a[AGE] ...   \n",
       "2  This[AGE][SEX] has come to the office requesti...   \n",
       "3  The patient was placed in the supine position ...   \n",
       "4  A gentleman who is here today requesting volun...   \n",
       "\n",
       "                             synthetic_sentence_nodp  \\\n",
       "0  [BOS]Neurology[SEP]The patient is an approxima...   \n",
       "1  [BOS]Cardiovascular / Pulmonary[SEP]The patien...   \n",
       "2  [BOS]Urology[SEP]This is an 18-year-old male, ...   \n",
       "3  [BOS]Urology[SEP]After the procedure was over,...   \n",
       "4  [BOS]Urology[SEP]The patient is a 26-year-old ...   \n",
       "\n",
       "                                 synthetic_sentence2  \\\n",
       "0  [BOS]Neurology[SEP] Ne ne]D D (N,D)Ne (D,N)D (...   \n",
       "1  [BOS]Cardiovascular / Pulmonary[SEP] heart car...   \n",
       "2  [BOS]Urology[SEP]Puurology [SEuep]QiQiiQivQeiq...   \n",
       "3                 [BOS]Urology[SEP]MM)\\nN\\n\\nM\\nS\\nN   \n",
       "4  [BOS]Urology[SEP]P__ [SE\\n B)\\n\\nUrologic\\nK]\\...   \n",
       "\n",
       "                      synthetic_sentence_dp_nobossep  \\\n",
       "0  Specialty: Neurology  presentation, she was fo...   \n",
       "1  Specialty: Cardiovascular / Pulmonary ressive ...   \n",
       "2  Specialty: Urology  the need for procedure wit...   \n",
       "3  Specialty: Urology ft vas was grasped in betwe...   \n",
       "4  Specialty: Urology ent was brought to the oper...   \n",
       "\n",
       "                         synthetic_sentence_dp_eps16  \\\n",
       "0  [BOS]Neurology[SEP]This patient has uctal dysf...   \n",
       "1  [BOS]Cardiovascular / Pulmonary[SEP]This patie...   \n",
       "2  [BOS]Urology[SEP]This patient has opedic compl...   \n",
       "3  [BOS]Urology[SEP]This patient is iphgym who ha...   \n",
       "4  [BOS]Urology[SEP]This patient has SEP demonstr...   \n",
       "\n",
       "                       synthetic_sentence_dp_eps8_v2  \\\n",
       "0  [BOS]Neurology[SEP]This patient has  epidural ...   \n",
       "1  [BOS]Cardiovascular / Pulmonary[SEP]This patie...   \n",
       "2  [BOS]Urology[SEP]This patient has peritoneopil...   \n",
       "3  [BOS]Urology[SEP]This patient is ialectonic pr...   \n",
       "4  [BOS]Urology[SEP]This patient has ienced and e...   \n",
       "\n",
       "                          synthetic_sentence_dp_eps3  \\\n",
       "0  [BOS]Neurology[SEP]This patient has SEPRA, a p...   \n",
       "1  [BOS]Cardiovascular / Pulmonary[SEP]This patie...   \n",
       "2  [BOS]Urology[SEP]This patient has ergosteretri...   \n",
       "3  [BOS]Urology[SEP]This patient is SEP. The pati...   \n",
       "4  [BOS]Urology[SEP]This patient has bripped up t...   \n",
       "\n",
       "                       synthetic_sentence_nodp_temp1  \\\n",
       "0  [BOS]Neurology[SEP]This patient has This is a ...   \n",
       "1  [BOS]Cardiovascular / Pulmonary[SEP]This patie...   \n",
       "2  [BOS]Urology[SEP]This patient has  The patient...   \n",
       "3  [BOS]Urology[SEP]This patient is ,Patient pres...   \n",
       "4  [BOS]Urology[SEP]This patient has  He had a ni...   \n",
       "\n",
       "         synthetic_sentence_med_nodp_temp0.6_topk100  \\\n",
       "0  [BOS]Neurology[SEP]This patient has The patien...   \n",
       "1  [BOS]Cardiovascular / Pulmonary[SEP]This patie...   \n",
       "2  [BOS]Urology[SEP]This patient has  The patient...   \n",
       "3  [BOS]Urology[SEP]This patient is  On this pati...   \n",
       "4  [BOS]Urology[SEP]This patient has ,The patient...   \n",
       "\n",
       "         synthetic_sentence_med_nodp_temp0.8_topk100  \\\n",
       "0  [BOS]Neurology[SEP]This patient has  53-year-o...   \n",
       "1  [BOS]Cardiovascular / Pulmonary[SEP]This patie...   \n",
       "2  [BOS]Urology[SEP]This patient has  The patient...   \n",
       "3  [BOS]Urology[SEP]This patient is  On 9-year-ol...   \n",
       "4  [BOS]Urology[SEP]This patient has  The patient...   \n",
       "\n",
       "         synthetic_sentence_med_nodp_temp1.2_topk100  \\\n",
       "0  [BOS]Neurology[SEP]This patient has The risks ...   \n",
       "1  [BOS]Cardiovascular / Pulmonary[SEP]This patie...   \n",
       "2  [BOS]Urology[SEP]This patient has  The procedu...   \n",
       "3  [BOS]Urology[SEP]This patient is She was place...   \n",
       "4  [BOS]Urology[SEP]This patient has ,The patient...   \n",
       "\n",
       "          synthetic_sentence_med_nodp_temp0.6_topk50  \\\n",
       "0  [BOS]Neurology[SEP]This patient has ,The patie...   \n",
       "1  [BOS]Cardiovascular / Pulmonary[SEP]This patie...   \n",
       "2  [BOS]Urology[SEP]This patient has  a history o...   \n",
       "3  [BOS]Urology[SEP]This patient is  Pulmonary[SE...   \n",
       "4  [BOS]Urology[SEP]This patient has ,The patient...   \n",
       "\n",
       "          synthetic_sentence_med_nodp_temp0.8_topk50  \\\n",
       "0  [BOS]Neurology[SEP]This patient has  He had a ...   \n",
       "1  [BOS]Cardiovascular / Pulmonary[SEP]This patie...   \n",
       "2  [BOS]Urology[SEP]This patient has  Patient is ...   \n",
       "3  [BOS]Urology[SEP]This patient is  On the patie...   \n",
       "4  [BOS]Urology[SEP]This patient has The patient ...   \n",
       "\n",
       "          synthetic_sentence_med_nodp_temp1.2_topk50  \n",
       "0  [BOS]Neurology[SEP]This patient has  The patie...  \n",
       "1  [BOS]Cardiovascular / Pulmonary[SEP]This patie...  \n",
       "2  [BOS]Urology[SEP]This patient has  the patient...  \n",
       "3  [BOS]Urology[SEP]This patient is  On this 46-y...  \n",
       "4  [BOS]Urology[SEP]This patient has ,DESCRIPTION...  "
      ]
     },
     "execution_count": 9,
     "metadata": {},
     "output_type": "execute_result"
    }
   ],
   "source": [
    "path1='/home/ray/default/synthetic_sentence_med_nodp_temp1.2_topk50.csv'\n",
    "#path2=\"/home/ray/default/synthetic_data_sst2_eps3.csv\"\n",
    "df = pd.read_csv(path1)\n",
    "print(df.shape)\n",
    "df.head()"
   ]
  },
  {
   "cell_type": "markdown",
   "metadata": {},
   "source": [
    "## Clean up Seperators from Synthetic Data Generation"
   ]
  },
  {
   "cell_type": "code",
   "execution_count": 10,
   "metadata": {},
   "outputs": [],
   "source": [
    "import pandas as pd\n",
    "import re\n",
    "\n",
    "def remove_before_sep(df, column_name):\n",
    "    \"\"\"\n",
    "    Removes everything before '[SEP]' in the specified column of the DataFrame.\n",
    "\n",
    "    Parameters:\n",
    "    - df: DataFrame containing the data.\n",
    "    - column_name: The name of the column to process.\n",
    "\n",
    "    Returns:\n",
    "    - df: DataFrame with the processed column.\n",
    "    \"\"\"\n",
    "    # Define the regular expression pattern to match everything before '[SEP]'\n",
    "    pattern = re.compile(r'.*?\\[SEP\\]')\n",
    "\n",
    "    # Apply the regular expression to the specified column\n",
    "    df[column_name] = df[column_name].apply(lambda x: re.sub(pattern, '', x))\n",
    "\n",
    "    return df"
   ]
  },
  {
   "cell_type": "markdown",
   "metadata": {},
   "source": [
    "## SST 2 Cleaning "
   ]
  },
  {
   "cell_type": "code",
   "execution_count": 7,
   "metadata": {},
   "outputs": [],
   "source": [
    "# Remove everything before '[SEP]' in the 'synthetic_sentence2' column\n",
    "df = remove_before_sep(df, 'synthetic_sentence_nodp')\n",
    "df = remove_before_sep(df, 'synthetic_sentence_dp_eps16')\n",
    "df = remove_before_sep(df, 'synthetic_sentence_dp_eps8')\n",
    "df = remove_before_sep(df, 'synthetic_sentence_dp_eps3')\n",
    "df = remove_before_sep(df, 'synthetic_sentence_nodp_temp0.6_topk100')\n",
    "df = remove_before_sep(df, 'synthetic_sentence_nodp_temp1.2_topk100')\n",
    "df = remove_before_sep(df, 'synthetic_sentence_nodp_temp0.8_topk50')"
   ]
  },
  {
   "cell_type": "markdown",
   "metadata": {},
   "source": [
    "## Medical Data Cleaning"
   ]
  },
  {
   "cell_type": "code",
   "execution_count": 11,
   "metadata": {},
   "outputs": [
    {
     "data": {
      "text/plain": [
       "Index(['transcription', 'medical_specialty', 'age_related_sentence',\n",
       "       'extracted_text', 'med_masked_transcriptions',\n",
       "       'pii_masked_transcriptions', 'synthetic_sentence_nodp',\n",
       "       'synthetic_sentence2', 'synthetic_sentence_dp_nobossep',\n",
       "       'synthetic_sentence_dp_eps16', 'synthetic_sentence_dp_eps8_v2',\n",
       "       'synthetic_sentence_dp_eps3', 'synthetic_sentence_nodp_temp1',\n",
       "       'synthetic_sentence_med_nodp_temp0.6_topk100',\n",
       "       'synthetic_sentence_med_nodp_temp0.8_topk100',\n",
       "       'synthetic_sentence_med_nodp_temp1.2_topk100',\n",
       "       'synthetic_sentence_med_nodp_temp0.6_topk50',\n",
       "       'synthetic_sentence_med_nodp_temp0.8_topk50',\n",
       "       'synthetic_sentence_med_nodp_temp1.2_topk50'],\n",
       "      dtype='object')"
      ]
     },
     "execution_count": 11,
     "metadata": {},
     "output_type": "execute_result"
    }
   ],
   "source": [
    "df.columns"
   ]
  },
  {
   "cell_type": "code",
   "execution_count": 12,
   "metadata": {},
   "outputs": [],
   "source": [
    "# Remove everything before '[SEP]' in the specified columns\n",
    "df = remove_before_sep(df, 'synthetic_sentence_nodp')\n",
    "df = remove_before_sep(df, 'synthetic_sentence_dp_eps16')\n",
    "df = remove_before_sep(df, 'synthetic_sentence_dp_eps8_v2')\n",
    "df = remove_before_sep(df, 'synthetic_sentence_dp_eps3')\n",
    "df = remove_before_sep(df, 'synthetic_sentence_nodp_temp1')\n",
    "df = remove_before_sep(df, 'synthetic_sentence_med_nodp_temp0.6_topk100')\n",
    "df = remove_before_sep(df, 'synthetic_sentence_med_nodp_temp0.8_topk100')\n",
    "df = remove_before_sep(df, 'synthetic_sentence_med_nodp_temp1.2_topk100')\n",
    "df = remove_before_sep(df, 'synthetic_sentence_med_nodp_temp0.6_topk50')\n",
    "df = remove_before_sep(df, 'synthetic_sentence_med_nodp_temp0.8_topk50')\n",
    "df = remove_before_sep(df, 'synthetic_sentence_med_nodp_temp1.2_topk50')"
   ]
  },
  {
   "cell_type": "markdown",
   "metadata": {},
   "source": [
    "## Calculate Fidelity based on Cosine Similarity"
   ]
  },
  {
   "cell_type": "code",
   "execution_count": 13,
   "metadata": {},
   "outputs": [],
   "source": [
    "import pandas as pd\n",
    "import torch\n",
    "from scipy.spatial.distance import cosine\n",
    "from transformers import AutoModel, AutoTokenizer\n",
    "\n",
    "def calculate_fidelity(df, column_original, column_synthetic):\n",
    "    # Load the SimCSE model and tokenizer\n",
    "    tokenizer = AutoTokenizer.from_pretrained(\"princeton-nlp/sup-simcse-bert-base-uncased\")\n",
    "    model = AutoModel.from_pretrained(\"princeton-nlp/sup-simcse-bert-base-uncased\")\n",
    "\n",
    "    # Extract sentences from the DataFrame columns\n",
    "    original_sentences = df[column_original].dropna().tolist()\n",
    "    synthetic_sentences = df[column_synthetic].dropna().tolist()\n",
    "\n",
    "    # Function to get embeddings for a list of sentences\n",
    "    def get_embeddings(sentences):\n",
    "        inputs = tokenizer(sentences, padding=True, truncation=True, return_tensors='pt')\n",
    "        with torch.no_grad():\n",
    "            outputs = model(**inputs)\n",
    "        embeddings = outputs.pooler_output  # Use pooler output for SimCSE\n",
    "        return embeddings\n",
    "\n",
    "    # Compute embeddings for the original and synthetic sentences\n",
    "    original_embeddings = get_embeddings(original_sentences)\n",
    "    synthetic_embeddings = get_embeddings(synthetic_sentences)\n",
    "\n",
    "    # Calculate pairwise cosine similarity\n",
    "    similarity_scores = [\n",
    "        1 - cosine(original_embeddings[i], synthetic_embeddings[i])\n",
    "        for i in range(len(original_embeddings))\n",
    "    ]\n",
    "\n",
    "    # Example aggregation: Calculate the mean of the similarity scores\n",
    "    mean_similarity = sum(similarity_scores) / len(similarity_scores)\n",
    "\n",
    "    return mean_similarity\n"
   ]
  },
  {
   "cell_type": "markdown",
   "metadata": {},
   "source": [
    "### SST 2 Fidelity"
   ]
  },
  {
   "cell_type": "code",
   "execution_count": 14,
   "metadata": {},
   "outputs": [
    {
     "data": {
      "text/plain": [
       "Index(['transcription', 'medical_specialty', 'age_related_sentence',\n",
       "       'extracted_text', 'med_masked_transcriptions',\n",
       "       'pii_masked_transcriptions', 'synthetic_sentence_nodp',\n",
       "       'synthetic_sentence2', 'synthetic_sentence_dp_nobossep',\n",
       "       'synthetic_sentence_dp_eps16', 'synthetic_sentence_dp_eps8_v2',\n",
       "       'synthetic_sentence_dp_eps3', 'synthetic_sentence_nodp_temp1',\n",
       "       'synthetic_sentence_med_nodp_temp0.6_topk100',\n",
       "       'synthetic_sentence_med_nodp_temp0.8_topk100',\n",
       "       'synthetic_sentence_med_nodp_temp1.2_topk100',\n",
       "       'synthetic_sentence_med_nodp_temp0.6_topk50',\n",
       "       'synthetic_sentence_med_nodp_temp0.8_topk50',\n",
       "       'synthetic_sentence_med_nodp_temp1.2_topk50'],\n",
       "      dtype='object')"
      ]
     },
     "execution_count": 14,
     "metadata": {},
     "output_type": "execute_result"
    }
   ],
   "source": [
    "df.columns"
   ]
  },
  {
   "cell_type": "code",
   "execution_count": 15,
   "metadata": {},
   "outputs": [
    {
     "ename": "KeyError",
     "evalue": "'sentence'",
     "output_type": "error",
     "traceback": [
      "\u001b[0;31m---------------------------------------------------------------------------\u001b[0m",
      "\u001b[0;31mKeyError\u001b[0m                                  Traceback (most recent call last)",
      "File \u001b[0;32m~/anaconda3/lib/python3.9/site-packages/pandas/core/indexes/base.py:3802\u001b[0m, in \u001b[0;36mIndex.get_loc\u001b[0;34m(self, key, method, tolerance)\u001b[0m\n\u001b[1;32m   3801\u001b[0m \u001b[39mtry\u001b[39;00m:\n\u001b[0;32m-> 3802\u001b[0m     \u001b[39mreturn\u001b[39;00m \u001b[39mself\u001b[39;49m\u001b[39m.\u001b[39;49m_engine\u001b[39m.\u001b[39;49mget_loc(casted_key)\n\u001b[1;32m   3803\u001b[0m \u001b[39mexcept\u001b[39;00m \u001b[39mKeyError\u001b[39;00m \u001b[39mas\u001b[39;00m err:\n",
      "File \u001b[0;32m~/anaconda3/lib/python3.9/site-packages/pandas/_libs/index.pyx:138\u001b[0m, in \u001b[0;36mpandas._libs.index.IndexEngine.get_loc\u001b[0;34m()\u001b[0m\n",
      "File \u001b[0;32m~/anaconda3/lib/python3.9/site-packages/pandas/_libs/index.pyx:165\u001b[0m, in \u001b[0;36mpandas._libs.index.IndexEngine.get_loc\u001b[0;34m()\u001b[0m\n",
      "File \u001b[0;32mpandas/_libs/hashtable_class_helper.pxi:5745\u001b[0m, in \u001b[0;36mpandas._libs.hashtable.PyObjectHashTable.get_item\u001b[0;34m()\u001b[0m\n",
      "File \u001b[0;32mpandas/_libs/hashtable_class_helper.pxi:5753\u001b[0m, in \u001b[0;36mpandas._libs.hashtable.PyObjectHashTable.get_item\u001b[0;34m()\u001b[0m\n",
      "\u001b[0;31mKeyError\u001b[0m: 'sentence'",
      "\nThe above exception was the direct cause of the following exception:\n",
      "\u001b[0;31mKeyError\u001b[0m                                  Traceback (most recent call last)",
      "\u001b[1;32m/home/ray/default/clean_pFINAL_Fidelity.ipynb Cell 15\u001b[0m line \u001b[0;36m2\n\u001b[1;32m      <a href='vscode-notebook-cell://vscode-session-e7njmn952qjhqnfp8efu1gnfxi.i.anyscaleuserdata.com/home/ray/default/clean_pFINAL_Fidelity.ipynb#X20sdnNjb2RlLXJlbW90ZQ%3D%3D?line=0'>1</a>\u001b[0m \u001b[39m# Calculate fidelity for the different comparisons\u001b[39;00m\n\u001b[0;32m----> <a href='vscode-notebook-cell://vscode-session-e7njmn952qjhqnfp8efu1gnfxi.i.anyscaleuserdata.com/home/ray/default/clean_pFINAL_Fidelity.ipynb#X20sdnNjb2RlLXJlbW90ZQ%3D%3D?line=1'>2</a>\u001b[0m fidelity_sentence_extracted \u001b[39m=\u001b[39m calculate_fidelity(df, \u001b[39m'\u001b[39;49m\u001b[39msentence\u001b[39;49m\u001b[39m'\u001b[39;49m, \u001b[39m'\u001b[39;49m\u001b[39msentence\u001b[39;49m\u001b[39m'\u001b[39;49m)\n\u001b[1;32m      <a href='vscode-notebook-cell://vscode-session-e7njmn952qjhqnfp8efu1gnfxi.i.anyscaleuserdata.com/home/ray/default/clean_pFINAL_Fidelity.ipynb#X20sdnNjb2RlLXJlbW90ZQ%3D%3D?line=2'>3</a>\u001b[0m fidelity_sentence_synthetic_nodp \u001b[39m=\u001b[39m calculate_fidelity(df, \u001b[39m'\u001b[39m\u001b[39msentence\u001b[39m\u001b[39m'\u001b[39m, \u001b[39m'\u001b[39m\u001b[39msynthetic_sentence_nodp\u001b[39m\u001b[39m'\u001b[39m)\n\u001b[1;32m      <a href='vscode-notebook-cell://vscode-session-e7njmn952qjhqnfp8efu1gnfxi.i.anyscaleuserdata.com/home/ray/default/clean_pFINAL_Fidelity.ipynb#X20sdnNjb2RlLXJlbW90ZQ%3D%3D?line=3'>4</a>\u001b[0m fidelity_sentence_synthetic_dp_eps16 \u001b[39m=\u001b[39m calculate_fidelity(df, \u001b[39m'\u001b[39m\u001b[39msentence\u001b[39m\u001b[39m'\u001b[39m, \u001b[39m'\u001b[39m\u001b[39msynthetic_sentence_dp_eps16\u001b[39m\u001b[39m'\u001b[39m)\n",
      "\u001b[1;32m/home/ray/default/clean_pFINAL_Fidelity.ipynb Cell 15\u001b[0m line \u001b[0;36m1\n\u001b[1;32m      <a href='vscode-notebook-cell://vscode-session-e7njmn952qjhqnfp8efu1gnfxi.i.anyscaleuserdata.com/home/ray/default/clean_pFINAL_Fidelity.ipynb#X20sdnNjb2RlLXJlbW90ZQ%3D%3D?line=8'>9</a>\u001b[0m model \u001b[39m=\u001b[39m AutoModel\u001b[39m.\u001b[39mfrom_pretrained(\u001b[39m\"\u001b[39m\u001b[39mprinceton-nlp/sup-simcse-bert-base-uncased\u001b[39m\u001b[39m\"\u001b[39m)\n\u001b[1;32m     <a href='vscode-notebook-cell://vscode-session-e7njmn952qjhqnfp8efu1gnfxi.i.anyscaleuserdata.com/home/ray/default/clean_pFINAL_Fidelity.ipynb#X20sdnNjb2RlLXJlbW90ZQ%3D%3D?line=10'>11</a>\u001b[0m \u001b[39m# Extract sentences from the DataFrame columns\u001b[39;00m\n\u001b[0;32m---> <a href='vscode-notebook-cell://vscode-session-e7njmn952qjhqnfp8efu1gnfxi.i.anyscaleuserdata.com/home/ray/default/clean_pFINAL_Fidelity.ipynb#X20sdnNjb2RlLXJlbW90ZQ%3D%3D?line=11'>12</a>\u001b[0m original_sentences \u001b[39m=\u001b[39m df[column_original]\u001b[39m.\u001b[39mdropna()\u001b[39m.\u001b[39mtolist()\n\u001b[1;32m     <a href='vscode-notebook-cell://vscode-session-e7njmn952qjhqnfp8efu1gnfxi.i.anyscaleuserdata.com/home/ray/default/clean_pFINAL_Fidelity.ipynb#X20sdnNjb2RlLXJlbW90ZQ%3D%3D?line=12'>13</a>\u001b[0m synthetic_sentences \u001b[39m=\u001b[39m df[column_synthetic]\u001b[39m.\u001b[39mdropna()\u001b[39m.\u001b[39mtolist()\n\u001b[1;32m     <a href='vscode-notebook-cell://vscode-session-e7njmn952qjhqnfp8efu1gnfxi.i.anyscaleuserdata.com/home/ray/default/clean_pFINAL_Fidelity.ipynb#X20sdnNjb2RlLXJlbW90ZQ%3D%3D?line=14'>15</a>\u001b[0m \u001b[39m# Function to get embeddings for a list of sentences\u001b[39;00m\n",
      "File \u001b[0;32m~/anaconda3/lib/python3.9/site-packages/pandas/core/frame.py:3807\u001b[0m, in \u001b[0;36mDataFrame.__getitem__\u001b[0;34m(self, key)\u001b[0m\n\u001b[1;32m   3805\u001b[0m \u001b[39mif\u001b[39;00m \u001b[39mself\u001b[39m\u001b[39m.\u001b[39mcolumns\u001b[39m.\u001b[39mnlevels \u001b[39m>\u001b[39m \u001b[39m1\u001b[39m:\n\u001b[1;32m   3806\u001b[0m     \u001b[39mreturn\u001b[39;00m \u001b[39mself\u001b[39m\u001b[39m.\u001b[39m_getitem_multilevel(key)\n\u001b[0;32m-> 3807\u001b[0m indexer \u001b[39m=\u001b[39m \u001b[39mself\u001b[39;49m\u001b[39m.\u001b[39;49mcolumns\u001b[39m.\u001b[39;49mget_loc(key)\n\u001b[1;32m   3808\u001b[0m \u001b[39mif\u001b[39;00m is_integer(indexer):\n\u001b[1;32m   3809\u001b[0m     indexer \u001b[39m=\u001b[39m [indexer]\n",
      "File \u001b[0;32m~/anaconda3/lib/python3.9/site-packages/pandas/core/indexes/base.py:3804\u001b[0m, in \u001b[0;36mIndex.get_loc\u001b[0;34m(self, key, method, tolerance)\u001b[0m\n\u001b[1;32m   3802\u001b[0m     \u001b[39mreturn\u001b[39;00m \u001b[39mself\u001b[39m\u001b[39m.\u001b[39m_engine\u001b[39m.\u001b[39mget_loc(casted_key)\n\u001b[1;32m   3803\u001b[0m \u001b[39mexcept\u001b[39;00m \u001b[39mKeyError\u001b[39;00m \u001b[39mas\u001b[39;00m err:\n\u001b[0;32m-> 3804\u001b[0m     \u001b[39mraise\u001b[39;00m \u001b[39mKeyError\u001b[39;00m(key) \u001b[39mfrom\u001b[39;00m \u001b[39merr\u001b[39;00m\n\u001b[1;32m   3805\u001b[0m \u001b[39mexcept\u001b[39;00m \u001b[39mTypeError\u001b[39;00m:\n\u001b[1;32m   3806\u001b[0m     \u001b[39m# If we have a listlike key, _check_indexing_error will raise\u001b[39;00m\n\u001b[1;32m   3807\u001b[0m     \u001b[39m#  InvalidIndexError. Otherwise we fall through and re-raise\u001b[39;00m\n\u001b[1;32m   3808\u001b[0m     \u001b[39m#  the TypeError.\u001b[39;00m\n\u001b[1;32m   3809\u001b[0m     \u001b[39mself\u001b[39m\u001b[39m.\u001b[39m_check_indexing_error(key)\n",
      "\u001b[0;31mKeyError\u001b[0m: 'sentence'"
     ]
    }
   ],
   "source": [
    "# Calculate fidelity for the different comparisons\n",
    "fidelity_sentence_extracted = calculate_fidelity(df, 'sentence', 'sentence')\n",
    "fidelity_sentence_synthetic_nodp = calculate_fidelity(df, 'sentence', 'synthetic_sentence_nodp')\n",
    "fidelity_sentence_synthetic_dp_eps16 = calculate_fidelity(df, 'sentence', 'synthetic_sentence_dp_eps16')\n",
    "fidelity_sentence_synthetic_dp_eps8 = calculate_fidelity(df, 'sentence', 'synthetic_sentence_dp_eps8')\n",
    "fidelity_sentence_synthetic_dp_eps3 = calculate_fidelity(df, 'sentence', 'synthetic_sentence_dp_eps3')\n",
    "fidelity_sentence_synthetic_nodp_temp06_topk100 = calculate_fidelity(df, 'sentence', 'synthetic_sentence_nodp_temp0.6_topk100')\n",
    "fidelity_sentence_synthetic_nodp_temp12_topk100 = calculate_fidelity(df, 'sentence', 'synthetic_sentence_nodp_temp1.2_topk100')\n",
    "fidelity_sentence_synthetic_nodp_temp08_topk50 = calculate_fidelity(df, 'sentence', 'synthetic_sentence_nodp_temp0.8_topk50')\n",
    "\n",
    "# Print the results\n",
    "print(f\"Fidelity (Sentence vs Extracted Text): {fidelity_sentence_extracted:.3f}\")\n",
    "print(f\"Fidelity (Sentence vs Synthetic Sentence No DP): {fidelity_sentence_synthetic_nodp:.3f}\")\n",
    "print(f\"Fidelity (Sentence vs Synthetic Sentence DP Epsilon 16): {fidelity_sentence_synthetic_dp_eps16:.3f}\")\n",
    "print(f\"Fidelity (Sentence vs Synthetic Sentence DP Epsilon 8): {fidelity_sentence_synthetic_dp_eps8:.3f}\")\n",
    "print(f\"Fidelity (Sentence vs Synthetic Sentence DP Epsilon 3): {fidelity_sentence_synthetic_dp_eps3:.3f}\")\n",
    "print(f\"Fidelity (Sentence vs Synthetic Sentence No DP Temp 0.6 Top K 100): {fidelity_sentence_synthetic_nodp_temp06_topk100:.3f}\")\n",
    "print(f\"Fidelity (Sentence vs Synthetic Sentence No DP Temp 1.2 Top K 100): {fidelity_sentence_synthetic_nodp_temp12_topk100:.3f}\")\n",
    "print(f\"Fidelity (Sentence vs Synthetic Sentence No DP Temp 0.8 Top K 50): {fidelity_sentence_synthetic_nodp_temp08_topk50:.3f}\")\n"
   ]
  },
  {
   "cell_type": "markdown",
   "metadata": {},
   "source": [
    "## Medical Data Fidelity Calculation"
   ]
  },
  {
   "cell_type": "code",
   "execution_count": null,
   "metadata": {},
   "outputs": [],
   "source": [
    "# Calculate fidelity for various comparisons\n",
    "fidelity_extracted_extracted = calculate_fidelity(df, 'extracted_text', 'extracted_text')\n",
    "fidelity_extracted_pii_masked = calculate_fidelity(df, 'extracted_text', 'pii_masked_transcriptions')\n",
    "fidelity_extracted_synthetic = calculate_fidelity(df, 'extracted_text', 'synthetic_sentence_nodp')\n",
    "fidelity_extracted_syntheticeps8 = calculate_fidelity(df, 'extracted_text', 'synthetic_sentence_dp_eps8_v2')\n",
    "fidelity_extracted_syntheticeps16 = calculate_fidelity(df, 'extracted_text', 'synthetic_sentence_dp_eps16')\n",
    "fidelity_extracted_synthetic_dp_nobossep = calculate_fidelity(df, 'extracted_text', 'synthetic_sentence_dp_nobossep')\n",
    "\n",
    "# Print the results\n",
    "print(f\"Fidelity (Extracted Text vs Extracted Text): {fidelity_extracted_extracted:.3f}\")\n",
    "print(f\"Fidelity (Extracted Text vs PII Masked Transcriptions): {fidelity_extracted_pii_masked:.3f}\")\n",
    "print(f\"Fidelity (Extracted Text vs Synthetic Sentence No DP): {fidelity_extracted_synthetic:.3f}\")\n",
    "print(f\"Fidelity (Extracted Text vs Synthetic Sentence DP eps8): {fidelity_extracted_syntheticeps8:.3f}\")\n",
    "print(f\"Fidelity (Extracted Text vs Synthetic Sentence DP eps16): {fidelity_extracted_syntheticeps16:.3f}\")\n",
    "print(f\"Fidelity (Extracted Text vs Synthetic Sentence DP No BOS SEP): {fidelity_extracted_synthetic_dp_nobossep:.3f}\")"
   ]
  },
  {
   "cell_type": "code",
   "execution_count": 8,
   "metadata": {},
   "outputs": [
    {
     "data": {
      "text/plain": [
       "Index(['transcription', 'medical_specialty', 'age_related_sentence',\n",
       "       'extracted_text', 'med_masked_transcriptions',\n",
       "       'pii_masked_transcriptions', 'synthetic_sentence_nodp',\n",
       "       'synthetic_sentence2', 'synthetic_sentence_dp_nobossep',\n",
       "       'synthetic_sentence_dp_eps16', 'synthetic_sentence_dp_eps8_v2',\n",
       "       'synthetic_sentence_dp_eps3', 'synthetic_sentence_nodp_temp1',\n",
       "       'synthetic_sentence_med_nodp_temp0.6_topk100',\n",
       "       'synthetic_sentence_med_nodp_temp0.8_topk100',\n",
       "       'synthetic_sentence_med_nodp_temp1.2_topk100'],\n",
       "      dtype='object')"
      ]
     },
     "execution_count": 8,
     "metadata": {},
     "output_type": "execute_result"
    }
   ],
   "source": [
    "df.columns"
   ]
  },
  {
   "cell_type": "code",
   "execution_count": 16,
   "metadata": {},
   "outputs": [
    {
     "name": "stdout",
     "output_type": "stream",
     "text": [
      "Fidelity (Extracted Text vs Extracted Text): 1.000\n",
      "Fidelity (Extracted Text vs PII Masked Transcriptions): 0.929\n",
      "Fidelity (Extracted Text vs Synthetic Sentence Temp 1 No DP): 0.523\n",
      "Fidelity (Extracted Text vs Synthetic Sentence Temp 0.6 TopK 100): 0.525\n",
      "Fidelity (Extracted Text vs Synthetic Sentence Temp 0.8 TopK 100): 0.527\n",
      "Fidelity (Extracted Text vs Synthetic Sentence Temp 1.2 TopK 100): 0.526\n",
      "Fidelity (Extracted Text vs Synthetic Sentence Temp 0.6 TopK 50): 0.523\n",
      "Fidelity (Extracted Text vs Synthetic Sentence Temp 0.8 TopK 50): 0.525\n",
      "Fidelity (Extracted Text vs Synthetic Sentence Temp 1.2 TopK 50): 0.524\n"
     ]
    }
   ],
   "source": [
    "#Calculate fidelity for various comparisons\n",
    "fidelity_extracted_extracted = calculate_fidelity(df, 'extracted_text', 'extracted_text')\n",
    "fidelity_extracted_pii_masked = calculate_fidelity(df, 'extracted_text', 'pii_masked_transcriptions')\n",
    "fidelity_extracted_synthetic_temp1 = calculate_fidelity(df, 'extracted_text', 'synthetic_sentence_nodp_temp1')\n",
    "fidelity_extracted_synthetic_temp0_6_topk100 = calculate_fidelity(df, 'extracted_text', 'synthetic_sentence_med_nodp_temp0.6_topk100')\n",
    "fidelity_extracted_synthetic_temp0_8_topk100 = calculate_fidelity(df, 'extracted_text', 'synthetic_sentence_med_nodp_temp0.8_topk100')\n",
    "fidelity_extracted_synthetic_temp1_2_topk100 = calculate_fidelity(df, 'extracted_text', 'synthetic_sentence_med_nodp_temp1.2_topk100')\n",
    "fidelity_extracted_synthetic_temp0_6_topk50 = calculate_fidelity(df, 'extracted_text', 'synthetic_sentence_med_nodp_temp0.6_topk50')\n",
    "fidelity_extracted_synthetic_temp0_8_topk50 = calculate_fidelity(df, 'extracted_text', 'synthetic_sentence_med_nodp_temp0.8_topk50')\n",
    "fidelity_extracted_synthetic_temp1_2_topk50 = calculate_fidelity(df, 'extracted_text', 'synthetic_sentence_med_nodp_temp1.2_topk50')\n",
    "\n",
    "#Print the results\n",
    "print(f\"Fidelity (Extracted Text vs Extracted Text): {fidelity_extracted_extracted:.3f}\")\n",
    "print(f\"Fidelity (Extracted Text vs PII Masked Transcriptions): {fidelity_extracted_pii_masked:.3f}\")\n",
    "print(f\"Fidelity (Extracted Text vs Synthetic Sentence Temp 1 No DP): {fidelity_extracted_synthetic_temp1:.3f}\")\n",
    "print(f\"Fidelity (Extracted Text vs Synthetic Sentence Temp 0.6 TopK 100): {fidelity_extracted_synthetic_temp0_6_topk100:.3f}\")\n",
    "print(f\"Fidelity (Extracted Text vs Synthetic Sentence Temp 0.8 TopK 100): {fidelity_extracted_synthetic_temp0_8_topk100:.3f}\")\n",
    "print(f\"Fidelity (Extracted Text vs Synthetic Sentence Temp 1.2 TopK 100): {fidelity_extracted_synthetic_temp1_2_topk100:.3f}\")\n",
    "print(f\"Fidelity (Extracted Text vs Synthetic Sentence Temp 0.6 TopK 50): {fidelity_extracted_synthetic_temp0_6_topk50:.3f}\")\n",
    "print(f\"Fidelity (Extracted Text vs Synthetic Sentence Temp 0.8 TopK 50): {fidelity_extracted_synthetic_temp0_8_topk50:.3f}\")\n",
    "print(f\"Fidelity (Extracted Text vs Synthetic Sentence Temp 1.2 TopK 50): {fidelity_extracted_synthetic_temp1_2_topk50:.3f}\")\n"
   ]
  },
  {
   "cell_type": "code",
   "execution_count": 10,
   "metadata": {},
   "outputs": [
    {
     "data": {
      "application/vnd.jupyter.widget-view+json": {
       "model_id": "4ace5cf4209f4e0ba654b82c11f4e9b8",
       "version_major": 2,
       "version_minor": 0
      },
      "text/plain": [
       "tokenizer_config.json:   0%|          | 0.00/252 [00:00<?, ?B/s]"
      ]
     },
     "metadata": {},
     "output_type": "display_data"
    },
    {
     "name": "stderr",
     "output_type": "stream",
     "text": [
      "/home/ray/anaconda3/lib/python3.9/site-packages/huggingface_hub/file_download.py:1132: FutureWarning: `resume_download` is deprecated and will be removed in version 1.0.0. Downloads always resume when possible. If you want to force a new download, use `force_download=True`.\n",
      "  warnings.warn(\n"
     ]
    },
    {
     "data": {
      "application/vnd.jupyter.widget-view+json": {
       "model_id": "f96eab51fbe14c5380d08c700da60c4e",
       "version_major": 2,
       "version_minor": 0
      },
      "text/plain": [
       "config.json:   0%|          | 0.00/689 [00:00<?, ?B/s]"
      ]
     },
     "metadata": {},
     "output_type": "display_data"
    },
    {
     "data": {
      "application/vnd.jupyter.widget-view+json": {
       "model_id": "1a4e4f32529c4d6fbffc2e26f668e5a0",
       "version_major": 2,
       "version_minor": 0
      },
      "text/plain": [
       "vocab.txt:   0%|          | 0.00/232k [00:00<?, ?B/s]"
      ]
     },
     "metadata": {},
     "output_type": "display_data"
    },
    {
     "data": {
      "application/vnd.jupyter.widget-view+json": {
       "model_id": "1ba542207d6241e9a9ade25597fa5502",
       "version_major": 2,
       "version_minor": 0
      },
      "text/plain": [
       "special_tokens_map.json:   0%|          | 0.00/112 [00:00<?, ?B/s]"
      ]
     },
     "metadata": {},
     "output_type": "display_data"
    },
    {
     "data": {
      "application/vnd.jupyter.widget-view+json": {
       "model_id": "54586d93937c414891219b0e51e56a44",
       "version_major": 2,
       "version_minor": 0
      },
      "text/plain": [
       "pytorch_model.bin:   0%|          | 0.00/438M [00:00<?, ?B/s]"
      ]
     },
     "metadata": {},
     "output_type": "display_data"
    },
    {
     "name": "stderr",
     "output_type": "stream",
     "text": [
      "Exception ignored in: <bound method IPythonKernel._clean_thread_parent_frames of <ipykernel.ipkernel.IPythonKernel object at 0x78babcfff580>>\n",
      "Traceback (most recent call last):\n",
      "  File \"/home/ray/anaconda3/lib/python3.9/site-packages/ipykernel/ipkernel.py\", line 775, in _clean_thread_parent_frames\n",
      "    def _clean_thread_parent_frames(\n",
      "KeyboardInterrupt: \n"
     ]
    },
    {
     "ename": "KeyError",
     "evalue": "'extracted_text'",
     "output_type": "error",
     "traceback": [
      "\u001b[0;31m---------------------------------------------------------------------------\u001b[0m",
      "\u001b[0;31mKeyError\u001b[0m                                  Traceback (most recent call last)",
      "File \u001b[0;32m~/anaconda3/lib/python3.9/site-packages/pandas/core/indexes/base.py:3802\u001b[0m, in \u001b[0;36mIndex.get_loc\u001b[0;34m(self, key, method, tolerance)\u001b[0m\n\u001b[1;32m   3801\u001b[0m \u001b[39mtry\u001b[39;00m:\n\u001b[0;32m-> 3802\u001b[0m     \u001b[39mreturn\u001b[39;00m \u001b[39mself\u001b[39;49m\u001b[39m.\u001b[39;49m_engine\u001b[39m.\u001b[39;49mget_loc(casted_key)\n\u001b[1;32m   3803\u001b[0m \u001b[39mexcept\u001b[39;00m \u001b[39mKeyError\u001b[39;00m \u001b[39mas\u001b[39;00m err:\n",
      "File \u001b[0;32m~/anaconda3/lib/python3.9/site-packages/pandas/_libs/index.pyx:138\u001b[0m, in \u001b[0;36mpandas._libs.index.IndexEngine.get_loc\u001b[0;34m()\u001b[0m\n",
      "File \u001b[0;32m~/anaconda3/lib/python3.9/site-packages/pandas/_libs/index.pyx:165\u001b[0m, in \u001b[0;36mpandas._libs.index.IndexEngine.get_loc\u001b[0;34m()\u001b[0m\n",
      "File \u001b[0;32mpandas/_libs/hashtable_class_helper.pxi:5745\u001b[0m, in \u001b[0;36mpandas._libs.hashtable.PyObjectHashTable.get_item\u001b[0;34m()\u001b[0m\n",
      "File \u001b[0;32mpandas/_libs/hashtable_class_helper.pxi:5753\u001b[0m, in \u001b[0;36mpandas._libs.hashtable.PyObjectHashTable.get_item\u001b[0;34m()\u001b[0m\n",
      "\u001b[0;31mKeyError\u001b[0m: 'extracted_text'",
      "\nThe above exception was the direct cause of the following exception:\n",
      "\u001b[0;31mKeyError\u001b[0m                                  Traceback (most recent call last)",
      "\u001b[1;32m/home/ray/default/pFINAL_Fidelity.ipynb Cell 16\u001b[0m line \u001b[0;36m2\n\u001b[1;32m      <a href='vscode-notebook-cell://vscode-session-e7njmn952qjhqnfp8efu1gnfxi.i.anyscaleuserdata.com/home/ray/default/pFINAL_Fidelity.ipynb#X14sdnNjb2RlLXJlbW90ZQ%3D%3D?line=0'>1</a>\u001b[0m \u001b[39m# Calculate fidelity for the three different comparisons\u001b[39;00m\n\u001b[0;32m----> <a href='vscode-notebook-cell://vscode-session-e7njmn952qjhqnfp8efu1gnfxi.i.anyscaleuserdata.com/home/ray/default/pFINAL_Fidelity.ipynb#X14sdnNjb2RlLXJlbW90ZQ%3D%3D?line=1'>2</a>\u001b[0m fidelity_extracted_extracted \u001b[39m=\u001b[39m calculate_fidelity(df, \u001b[39m'\u001b[39;49m\u001b[39mextracted_text\u001b[39;49m\u001b[39m'\u001b[39;49m, \u001b[39m'\u001b[39;49m\u001b[39mextracted_text\u001b[39;49m\u001b[39m'\u001b[39;49m)\n\u001b[1;32m      <a href='vscode-notebook-cell://vscode-session-e7njmn952qjhqnfp8efu1gnfxi.i.anyscaleuserdata.com/home/ray/default/pFINAL_Fidelity.ipynb#X14sdnNjb2RlLXJlbW90ZQ%3D%3D?line=2'>3</a>\u001b[0m fidelity_extracted_pii_masked \u001b[39m=\u001b[39m calculate_fidelity(df, \u001b[39m'\u001b[39m\u001b[39mextracted_text\u001b[39m\u001b[39m'\u001b[39m, \u001b[39m'\u001b[39m\u001b[39mpii_masked_transcriptions\u001b[39m\u001b[39m'\u001b[39m)\n\u001b[1;32m      <a href='vscode-notebook-cell://vscode-session-e7njmn952qjhqnfp8efu1gnfxi.i.anyscaleuserdata.com/home/ray/default/pFINAL_Fidelity.ipynb#X14sdnNjb2RlLXJlbW90ZQ%3D%3D?line=3'>4</a>\u001b[0m fidelity_extracted_synthetic \u001b[39m=\u001b[39m calculate_fidelity(df, \u001b[39m'\u001b[39m\u001b[39mextracted_text\u001b[39m\u001b[39m'\u001b[39m, \u001b[39m'\u001b[39m\u001b[39msynthetic_sentence_nodp\u001b[39m\u001b[39m'\u001b[39m)\n",
      "\u001b[1;32m/home/ray/default/pFINAL_Fidelity.ipynb Cell 16\u001b[0m line \u001b[0;36m1\n\u001b[1;32m      <a href='vscode-notebook-cell://vscode-session-e7njmn952qjhqnfp8efu1gnfxi.i.anyscaleuserdata.com/home/ray/default/pFINAL_Fidelity.ipynb#X14sdnNjb2RlLXJlbW90ZQ%3D%3D?line=8'>9</a>\u001b[0m model \u001b[39m=\u001b[39m AutoModel\u001b[39m.\u001b[39mfrom_pretrained(\u001b[39m\"\u001b[39m\u001b[39mprinceton-nlp/sup-simcse-bert-base-uncased\u001b[39m\u001b[39m\"\u001b[39m)\n\u001b[1;32m     <a href='vscode-notebook-cell://vscode-session-e7njmn952qjhqnfp8efu1gnfxi.i.anyscaleuserdata.com/home/ray/default/pFINAL_Fidelity.ipynb#X14sdnNjb2RlLXJlbW90ZQ%3D%3D?line=10'>11</a>\u001b[0m \u001b[39m# Extract sentences from the DataFrame columns\u001b[39;00m\n\u001b[0;32m---> <a href='vscode-notebook-cell://vscode-session-e7njmn952qjhqnfp8efu1gnfxi.i.anyscaleuserdata.com/home/ray/default/pFINAL_Fidelity.ipynb#X14sdnNjb2RlLXJlbW90ZQ%3D%3D?line=11'>12</a>\u001b[0m original_sentences \u001b[39m=\u001b[39m df[column_original]\u001b[39m.\u001b[39mdropna()\u001b[39m.\u001b[39mtolist()\n\u001b[1;32m     <a href='vscode-notebook-cell://vscode-session-e7njmn952qjhqnfp8efu1gnfxi.i.anyscaleuserdata.com/home/ray/default/pFINAL_Fidelity.ipynb#X14sdnNjb2RlLXJlbW90ZQ%3D%3D?line=12'>13</a>\u001b[0m synthetic_sentences \u001b[39m=\u001b[39m df[column_synthetic]\u001b[39m.\u001b[39mdropna()\u001b[39m.\u001b[39mtolist()\n\u001b[1;32m     <a href='vscode-notebook-cell://vscode-session-e7njmn952qjhqnfp8efu1gnfxi.i.anyscaleuserdata.com/home/ray/default/pFINAL_Fidelity.ipynb#X14sdnNjb2RlLXJlbW90ZQ%3D%3D?line=14'>15</a>\u001b[0m \u001b[39m# Function to get embeddings for a list of sentences\u001b[39;00m\n",
      "File \u001b[0;32m~/anaconda3/lib/python3.9/site-packages/pandas/core/frame.py:3807\u001b[0m, in \u001b[0;36mDataFrame.__getitem__\u001b[0;34m(self, key)\u001b[0m\n\u001b[1;32m   3805\u001b[0m \u001b[39mif\u001b[39;00m \u001b[39mself\u001b[39m\u001b[39m.\u001b[39mcolumns\u001b[39m.\u001b[39mnlevels \u001b[39m>\u001b[39m \u001b[39m1\u001b[39m:\n\u001b[1;32m   3806\u001b[0m     \u001b[39mreturn\u001b[39;00m \u001b[39mself\u001b[39m\u001b[39m.\u001b[39m_getitem_multilevel(key)\n\u001b[0;32m-> 3807\u001b[0m indexer \u001b[39m=\u001b[39m \u001b[39mself\u001b[39;49m\u001b[39m.\u001b[39;49mcolumns\u001b[39m.\u001b[39;49mget_loc(key)\n\u001b[1;32m   3808\u001b[0m \u001b[39mif\u001b[39;00m is_integer(indexer):\n\u001b[1;32m   3809\u001b[0m     indexer \u001b[39m=\u001b[39m [indexer]\n",
      "File \u001b[0;32m~/anaconda3/lib/python3.9/site-packages/pandas/core/indexes/base.py:3804\u001b[0m, in \u001b[0;36mIndex.get_loc\u001b[0;34m(self, key, method, tolerance)\u001b[0m\n\u001b[1;32m   3802\u001b[0m     \u001b[39mreturn\u001b[39;00m \u001b[39mself\u001b[39m\u001b[39m.\u001b[39m_engine\u001b[39m.\u001b[39mget_loc(casted_key)\n\u001b[1;32m   3803\u001b[0m \u001b[39mexcept\u001b[39;00m \u001b[39mKeyError\u001b[39;00m \u001b[39mas\u001b[39;00m err:\n\u001b[0;32m-> 3804\u001b[0m     \u001b[39mraise\u001b[39;00m \u001b[39mKeyError\u001b[39;00m(key) \u001b[39mfrom\u001b[39;00m \u001b[39merr\u001b[39;00m\n\u001b[1;32m   3805\u001b[0m \u001b[39mexcept\u001b[39;00m \u001b[39mTypeError\u001b[39;00m:\n\u001b[1;32m   3806\u001b[0m     \u001b[39m# If we have a listlike key, _check_indexing_error will raise\u001b[39;00m\n\u001b[1;32m   3807\u001b[0m     \u001b[39m#  InvalidIndexError. Otherwise we fall through and re-raise\u001b[39;00m\n\u001b[1;32m   3808\u001b[0m     \u001b[39m#  the TypeError.\u001b[39;00m\n\u001b[1;32m   3809\u001b[0m     \u001b[39mself\u001b[39m\u001b[39m.\u001b[39m_check_indexing_error(key)\n",
      "\u001b[0;31mKeyError\u001b[0m: 'extracted_text'"
     ]
    }
   ],
   "source": [
    "# Calculate fidelity for the three different comparisons\n",
    "fidelity_extracted_extracted = calculate_fidelity(df, 'extracted_text', 'extracted_text')\n",
    "fidelity_extracted_pii_masked = calculate_fidelity(df, 'extracted_text', 'pii_masked_transcriptions')\n",
    "fidelity_extracted_synthetic = calculate_fidelity(df, 'extracted_text', 'synthetic_sentence_nodp')\n",
    "\n",
    "# Print the results\n",
    "print(f\"Fidelity (Extracted Text vs Extracted Text): {fidelity_extracted_extracted:.3f}\")\n",
    "print(f\"Fidelity (Extracted Text vs PII Masked Transcriptions): {fidelity_extracted_pii_masked:.3f}\")\n",
    "print(f\"Fidelity (Extracted Text vs Synthetic Sentence No DP): {fidelity_extracted_synthetic:.3f}\")"
   ]
  },
  {
   "cell_type": "code",
   "execution_count": 12,
   "metadata": {},
   "outputs": [
    {
     "data": {
      "text/plain": [
       "Index(['transcription', 'medical_specialty', 'age_related_sentence',\n",
       "       'extracted_text', 'med_masked_transcriptions',\n",
       "       'pii_masked_transcriptions', 'synthetic_sentence_nodp',\n",
       "       'synthetic_sentence2', 'synthetic_sentence_dp_nobossep',\n",
       "       'synthetic_sentence_dp_eps16', 'synthetic_sentence_dp_eps8_v2'],\n",
       "      dtype='object')"
      ]
     },
     "execution_count": 12,
     "metadata": {},
     "output_type": "execute_result"
    }
   ],
   "source": [
    "df.columns"
   ]
  },
  {
   "cell_type": "code",
   "execution_count": 11,
   "metadata": {},
   "outputs": [
    {
     "name": "stdout",
     "output_type": "stream",
     "text": [
      "Fidelity (Extracted Text vs Synthetic Sentence DP eps8): 0.575\n"
     ]
    }
   ],
   "source": [
    "fidelity_extracted_syntheticeps8 = calculate_fidelity(df, 'extracted_text', 'synthetic_sentence_dp_eps8_v2')\n",
    "#fidelity_extracted_syntheticeps16 = calculate_fidelity(df, 'extracted_text', 'synthetic_sentence_dp_eps16')\n",
    "\n",
    "print(f\"Fidelity (Extracted Text vs Synthetic Sentence DP eps8): {fidelity_extracted_syntheticeps8:.3f}\")"
   ]
  },
  {
   "cell_type": "code",
   "execution_count": 10,
   "metadata": {},
   "outputs": [
    {
     "name": "stdout",
     "output_type": "stream",
     "text": [
      "Fidelity (Extracted Text vs Synthetic Sentence DP eps16): 0.539\n"
     ]
    }
   ],
   "source": [
    "#fidelity_extracted_syntheticeps8 = calculate_fidelity(df, 'extracted_text', 'synthetic_sentence_dp_eps8_v2')\n",
    "fidelity_extracted_syntheticeps16 = calculate_fidelity(df, 'extracted_text', 'synthetic_sentence_dp_eps16')\n",
    "\n",
    "#print(f\"Fidelity (Extracted Text vs Synthetic Sentence DP eps8): {fidelity_extracted_syntheticeps8:.3f}\")\n",
    "print(f\"Fidelity (Extracted Text vs Synthetic Sentence DP eps16): {fidelity_extracted_syntheticeps16:.3f}\")"
   ]
  },
  {
   "cell_type": "code",
   "execution_count": 12,
   "metadata": {},
   "outputs": [
    {
     "data": {
      "application/vnd.jupyter.widget-view+json": {
       "model_id": "19eefe3429b04aa28d3bc7afc077811f",
       "version_major": 2,
       "version_minor": 0
      },
      "text/plain": [
       "tokenizer_config.json:   0%|          | 0.00/252 [00:00<?, ?B/s]"
      ]
     },
     "metadata": {},
     "output_type": "display_data"
    },
    {
     "name": "stderr",
     "output_type": "stream",
     "text": [
      "/home/ray/anaconda3/lib/python3.9/site-packages/huggingface_hub/file_download.py:1132: FutureWarning: `resume_download` is deprecated and will be removed in version 1.0.0. Downloads always resume when possible. If you want to force a new download, use `force_download=True`.\n",
      "  warnings.warn(\n"
     ]
    },
    {
     "data": {
      "application/vnd.jupyter.widget-view+json": {
       "model_id": "2ade88dbb359457092bdbeaaa385ec37",
       "version_major": 2,
       "version_minor": 0
      },
      "text/plain": [
       "config.json:   0%|          | 0.00/689 [00:00<?, ?B/s]"
      ]
     },
     "metadata": {},
     "output_type": "display_data"
    },
    {
     "data": {
      "application/vnd.jupyter.widget-view+json": {
       "model_id": "1d8f5ed1e1374e628cdf75197f5f1366",
       "version_major": 2,
       "version_minor": 0
      },
      "text/plain": [
       "vocab.txt:   0%|          | 0.00/232k [00:00<?, ?B/s]"
      ]
     },
     "metadata": {},
     "output_type": "display_data"
    },
    {
     "data": {
      "application/vnd.jupyter.widget-view+json": {
       "model_id": "61b02f9d84f248889a4d5cda09fed816",
       "version_major": 2,
       "version_minor": 0
      },
      "text/plain": [
       "special_tokens_map.json:   0%|          | 0.00/112 [00:00<?, ?B/s]"
      ]
     },
     "metadata": {},
     "output_type": "display_data"
    },
    {
     "data": {
      "application/vnd.jupyter.widget-view+json": {
       "model_id": "6d34ffe7d45b47a3a92880da41e3aa77",
       "version_major": 2,
       "version_minor": 0
      },
      "text/plain": [
       "pytorch_model.bin:   0%|          | 0.00/438M [00:00<?, ?B/s]"
      ]
     },
     "metadata": {},
     "output_type": "display_data"
    },
    {
     "name": "stdout",
     "output_type": "stream",
     "text": [
      "Fidelity (Extracted Text vs Synthetic Sentence DP eps3): 0.524\n",
      "Fidelity (Extracted Text vs Synthetic Sentence no DP Temp 1 ): 0.523\n"
     ]
    }
   ],
   "source": [
    "fidelity_extracted_syntheticeps3 = calculate_fidelity(df, 'extracted_text', 'synthetic_sentence_dp_eps3')\n",
    "fidelity_extracted_synthetice_nodp_temp1 = calculate_fidelity(df, 'extracted_text', 'synthetic_sentence_nodp_temp1')\n",
    "\n",
    "print(f\"Fidelity (Extracted Text vs Synthetic Sentence DP eps3): {fidelity_extracted_syntheticeps3:.3f}\")\n",
    "print(f\"Fidelity (Extracted Text vs Synthetic Sentence no DP Temp 1 ): {fidelity_extracted_synthetice_nodp_temp1:.3f}\")"
   ]
  },
  {
   "cell_type": "code",
   "execution_count": 9,
   "metadata": {},
   "outputs": [
    {
     "data": {
      "text/plain": [
       "Index(['transcription', 'medical_specialty', 'age_related_sentence',\n",
       "       'extracted_text', 'med_masked_transcriptions',\n",
       "       'pii_masked_transcriptions', 'synthetic_sentence_nodp',\n",
       "       'synthetic_sentence2', 'synthetic_sentence_dp_nobossep',\n",
       "       'synthetic_sentence_dp_eps16', 'synthetic_sentence_dp_eps8_v2',\n",
       "       'synthetic_sentence_dp_eps3', 'synthetic_sentence_nodp_temp1'],\n",
       "      dtype='object')"
      ]
     },
     "execution_count": 9,
     "metadata": {},
     "output_type": "execute_result"
    }
   ],
   "source": [
    "df.columns"
   ]
  },
  {
   "cell_type": "code",
   "execution_count": 21,
   "metadata": {},
   "outputs": [],
   "source": [
    "fidelity_extracted_synthetic = calculate_fidelity(df, 'extracted_text', 'synthetic_sentence_dp_nobossep')"
   ]
  },
  {
   "cell_type": "code",
   "execution_count": 22,
   "metadata": {},
   "outputs": [
    {
     "data": {
      "text/plain": [
       "0.7533589751531796"
      ]
     },
     "execution_count": 22,
     "metadata": {},
     "output_type": "execute_result"
    }
   ],
   "source": [
    "fidelity_extracted_synthetic"
   ]
  },
  {
   "cell_type": "markdown",
   "metadata": {},
   "source": [
    "## Medical Data Fidelity Calculation"
   ]
  },
  {
   "cell_type": "code",
   "execution_count": null,
   "metadata": {},
   "outputs": [],
   "source": [
    "# Calculate fidelity for various comparisons\n",
    "fidelity_extracted_extracted = calculate_fidelity(df, 'extracted_text', 'extracted_text')\n",
    "fidelity_extracted_pii_masked = calculate_fidelity(df, 'extracted_text', 'pii_masked_transcriptions')\n",
    "fidelity_extracted_synthetic = calculate_fidelity(df, 'extracted_text', 'synthetic_sentence_nodp')\n",
    "fidelity_extracted_syntheticeps8 = calculate_fidelity(df, 'extracted_text', 'synthetic_sentence_dp_eps8_v2')\n",
    "fidelity_extracted_syntheticeps16 = calculate_fidelity(df, 'extracted_text', 'synthetic_sentence_dp_eps16')\n",
    "fidelity_extracted_synthetic_dp_nobossep = calculate_fidelity(df, 'extracted_text', 'synthetic_sentence_dp_nobossep')\n",
    "\n",
    "# Print the results\n",
    "print(f\"Fidelity (Extracted Text vs Extracted Text): {fidelity_extracted_extracted:.3f}\")\n",
    "print(f\"Fidelity (Extracted Text vs PII Masked Transcriptions): {fidelity_extracted_pii_masked:.3f}\")\n",
    "print(f\"Fidelity (Extracted Text vs Synthetic Sentence No DP): {fidelity_extracted_synthetic:.3f}\")\n",
    "print(f\"Fidelity (Extracted Text vs Synthetic Sentence DP eps8): {fidelity_extracted_syntheticeps8:.3f}\")\n",
    "print(f\"Fidelity (Extracted Text vs Synthetic Sentence DP eps16): {fidelity_extracted_syntheticeps16:.3f}\")\n",
    "print(f\"Fidelity (Extracted Text vs Synthetic Sentence DP No BOS SEP): {fidelity_extracted_synthetic_dp_nobossep:.3f}\")\n"
   ]
  },
  {
   "cell_type": "markdown",
   "metadata": {},
   "source": [
    "## Example Calculation"
   ]
  },
  {
   "cell_type": "code",
   "execution_count": null,
   "metadata": {},
   "outputs": [],
   "source": [
    "import torch\n",
    "from scipy.spatial.distance import cosine\n",
    "from transformers import AutoModel, AutoTokenizer\n",
    "\n",
    "# Import our models. The package will take care of downloading the models automatically\n",
    "tokenizer = AutoTokenizer.from_pretrained(\"princeton-nlp/sup-simcse-bert-base-uncased\")\n",
    "model = AutoModel.from_pretrained(\"princeton-nlp/sup-simcse-bert-base-uncased\")\n",
    "\n",
    "# Tokenize input texts\n",
    "texts = [\n",
    "    \"There's a kid on a skateboard.\",\n",
    "    \"A kid is skateboarding.\",\n",
    "    \"A kid is inside the house.\"\n",
    "]\n",
    "inputs = tokenizer(texts, padding=True, truncation=True, return_tensors=\"pt\")\n",
    "\n",
    "# Get the embeddings\n",
    "with torch.no_grad():\n",
    "    embeddings = model(**inputs, output_hidden_states=True, return_dict=True).pooler_output\n",
    "\n",
    "# Calculate cosine similarities\n",
    "# Cosine similarities are in [-1, 1]. Higher means more similar\n",
    "cosine_sim_0_1 = 1 - cosine(embeddings[0], embeddings[1])\n",
    "cosine_sim_0_2 = 1 - cosine(embeddings[0], embeddings[2])\n",
    "\n",
    "print(\"Cosine similarity between \\\"%s\\\" and \\\"%s\\\" is: %.3f\" % (texts[0], texts[1], cosine_sim_0_1))\n",
    "print(\"Cosine similarity between \\\"%s\\\" and \\\"%s\\\" is: %.3f\" % (texts[0], texts[2], cosine_sim_0_2))"
   ]
  },
  {
   "cell_type": "markdown",
   "metadata": {},
   "source": []
  }
 ],
 "metadata": {
  "kernelspec": {
   "display_name": "base",
   "language": "python",
   "name": "python3"
  },
  "language_info": {
   "codemirror_mode": {
    "name": "ipython",
    "version": 3
   },
   "file_extension": ".py",
   "mimetype": "text/x-python",
   "name": "python",
   "nbconvert_exporter": "python",
   "pygments_lexer": "ipython3",
   "version": "3.9.19"
  }
 },
 "nbformat": 4,
 "nbformat_minor": 2
}
